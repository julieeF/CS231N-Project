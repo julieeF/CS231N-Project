{
 "cells": [
  {
   "cell_type": "code",
   "execution_count": 1,
   "metadata": {},
   "outputs": [],
   "source": [
    "import os\n",
    "import sys\n",
    "import csv\n",
    "from file_utils import *\n",
    "import re"
   ]
  },
  {
   "cell_type": "code",
   "execution_count": 2,
   "metadata": {},
   "outputs": [
    {
     "name": "stdout",
     "output_type": "stream",
     "text": [
      "Session1\n",
      "/home/mandeep_stanford/cs231n_project/IEMOCAP_full_release/Session1/sentences/wav/\n",
      "Session2\n",
      "/home/mandeep_stanford/cs231n_project/IEMOCAP_full_release/Session2/sentences/wav/\n",
      "Session3\n",
      "/home/mandeep_stanford/cs231n_project/IEMOCAP_full_release/Session3/sentences/wav/\n",
      "Session4\n",
      "/home/mandeep_stanford/cs231n_project/IEMOCAP_full_release/Session4/sentences/wav/\n",
      "Session5\n",
      "/home/mandeep_stanford/cs231n_project/IEMOCAP_full_release/Session5/sentences/wav/\n"
     ]
    }
   ],
   "source": [
    "list_files = []\n",
    "iemocap_full_release_path = \"/home/mandeep_stanford/cs231n_project/IEMOCAP_full_release/\"\n",
    "\n",
    "iemocap_pre_processed_data_path = \"/home/mandeep_stanford/cs231n_project/code/pre-processed_data/\"\n",
    "\n",
    "for x in range(5):\n",
    "    sess_name = \"Session\" + str(x+1)\n",
    "    print(sess_name)\n",
    "    path = iemocap_full_release_path + sess_name + \"/sentences/wav/\"\n",
    "    print(path)\n",
    "    #file_search(path, list_files)\n",
    "    #list_files = sorted(list_files)\n",
    "\n",
    "    # print sess_name + \", #sum files: \" + str(len(list_files))"
   ]
  },
  {
   "cell_type": "code",
   "execution_count": 3,
   "metadata": {},
   "outputs": [],
   "source": [
    "useful_regex = re.compile(r'\\[.+\\]\\n', re.IGNORECASE)\n"
   ]
  },
  {
   "cell_type": "code",
   "execution_count": 4,
   "metadata": {},
   "outputs": [],
   "source": [
    "file_path = iemocap_full_release_path + '/Session1/dialog/EmoEvaluation/Ses01F_impro01.txt'"
   ]
  },
  {
   "cell_type": "code",
   "execution_count": 5,
   "metadata": {},
   "outputs": [],
   "source": [
    "with open(file_path) as f:\n",
    "    file_content = f.read()\n",
    "    \n",
    "info_lines = re.findall(useful_regex, file_content)"
   ]
  },
  {
   "cell_type": "code",
   "execution_count": 6,
   "metadata": {},
   "outputs": [
    {
     "name": "stdout",
     "output_type": "stream",
     "text": [
      "['[6.2901 - 8.2357]', 'Ses01F_impro01_F000', 'neu', '[2.5000, 2.5000, 2.5000]']\n",
      "['[10.0100 - 11.3925]', 'Ses01F_impro01_F001', 'neu', '[2.5000, 2.5000, 2.5000]']\n",
      "['[14.8872 - 18.0175]', 'Ses01F_impro01_F002', 'neu', '[2.5000, 2.5000, 2.5000]']\n",
      "['[19.2900 - 20.7875]', 'Ses01F_impro01_F003', 'xxx', '[2.5000, 3.0000, 3.0000]']\n",
      "['[21.3257 - 24.7400]', 'Ses01F_impro01_F004', 'xxx', '[2.5000, 3.0000, 2.5000]']\n",
      "['[27.4600 - 31.4900]', 'Ses01F_impro01_F005', 'neu', '[2.5000, 3.5000, 2.0000]']\n",
      "['[38.9650 - 43.5900]', 'Ses01F_impro01_F006', 'fru', '[2.0000, 3.5000, 3.5000]']\n",
      "['[46.5800 - 52.1900]', 'Ses01F_impro01_F007', 'fru', '[2.5000, 3.5000, 3.5000]']\n",
      "['[56.1600 - 58.8225]', 'Ses01F_impro01_F008', 'fru', '[2.0000, 3.5000, 3.5000]']\n"
     ]
    }
   ],
   "source": [
    "for l in info_lines[1:10]:\n",
    "    print(l.strip().split('\\t'))"
   ]
  },
  {
   "cell_type": "code",
   "execution_count": 7,
   "metadata": {},
   "outputs": [],
   "source": [
    "info_line = re.compile(r'\\[.+\\]\\n', re.IGNORECASE)\n",
    "\n",
    "start_times, end_times, wav_file_names, emotions, vals, acts, doms = [], [], [], [], [], [], []\n",
    "import pdb\n",
    "for sess in range(1, 5):\n",
    "    emo_evaluation_dir = iemocap_full_release_path + '/Session{}/dialog/EmoEvaluation/'.format(sess)\n",
    "    evaluation_files = [l for l in os.listdir(emo_evaluation_dir) if 'Ses' in l]\n",
    "    for file in evaluation_files:\n",
    "        #\n",
    "        #\n",
    "        x = re.search(\"^Ses.*\", file)\n",
    "        #print(x, file)\n",
    "        #pdb.set_trace()\n",
    "        if x == None:\n",
    "            continue\n",
    "        with open(emo_evaluation_dir + file) as f:\n",
    "            content = f.read()\n",
    "        info_lines = re.findall(info_line, content)\n",
    "        for line in info_lines[1:]:  # the first line is a header\n",
    "            #pdb.set_trace()   \n",
    "            start_end_time, wav_file_name, emotion, val_act_dom = line.strip().split('\\t')\n",
    "            start_time, end_time = start_end_time[1:-1].split('-')\n",
    "            val, act, dom = val_act_dom[1:-1].split(',')\n",
    "            val, act, dom = float(val), float(act), float(dom)\n",
    "            start_time, end_time = float(start_time), float(end_time)\n",
    "            start_times.append(start_time)\n",
    "            end_times.append(end_time)\n",
    "            wav_file_names.append(wav_file_name)\n",
    "            emotions.append(emotion)\n",
    "            vals.append(val)\n",
    "            acts.append(act)\n",
    "            doms.append(dom)"
   ]
  },
  {
   "cell_type": "code",
   "execution_count": 8,
   "metadata": {},
   "outputs": [
    {
     "data": {
      "text/html": [
       "<div>\n",
       "<style scoped>\n",
       "    .dataframe tbody tr th:only-of-type {\n",
       "        vertical-align: middle;\n",
       "    }\n",
       "\n",
       "    .dataframe tbody tr th {\n",
       "        vertical-align: top;\n",
       "    }\n",
       "\n",
       "    .dataframe thead th {\n",
       "        text-align: right;\n",
       "    }\n",
       "</style>\n",
       "<table border=\"1\" class=\"dataframe\">\n",
       "  <thead>\n",
       "    <tr style=\"text-align: right;\">\n",
       "      <th></th>\n",
       "      <th>start_time</th>\n",
       "      <th>end_time</th>\n",
       "      <th>wav_file</th>\n",
       "      <th>emotion</th>\n",
       "      <th>val</th>\n",
       "      <th>act</th>\n",
       "      <th>dom</th>\n",
       "    </tr>\n",
       "  </thead>\n",
       "  <tbody>\n",
       "    <tr>\n",
       "      <th>7864</th>\n",
       "      <td>139.08</td>\n",
       "      <td>141.80</td>\n",
       "      <td>Ses04F_impro01_M021</td>\n",
       "      <td>ang</td>\n",
       "      <td>2.0</td>\n",
       "      <td>4.0</td>\n",
       "      <td>4.5</td>\n",
       "    </tr>\n",
       "    <tr>\n",
       "      <th>7865</th>\n",
       "      <td>145.26</td>\n",
       "      <td>148.57</td>\n",
       "      <td>Ses04F_impro01_M022</td>\n",
       "      <td>fru</td>\n",
       "      <td>1.5</td>\n",
       "      <td>4.0</td>\n",
       "      <td>4.5</td>\n",
       "    </tr>\n",
       "    <tr>\n",
       "      <th>7866</th>\n",
       "      <td>148.69</td>\n",
       "      <td>151.21</td>\n",
       "      <td>Ses04F_impro01_M023</td>\n",
       "      <td>ang</td>\n",
       "      <td>1.5</td>\n",
       "      <td>4.5</td>\n",
       "      <td>5.0</td>\n",
       "    </tr>\n",
       "    <tr>\n",
       "      <th>7867</th>\n",
       "      <td>151.22</td>\n",
       "      <td>155.47</td>\n",
       "      <td>Ses04F_impro01_M024</td>\n",
       "      <td>ang</td>\n",
       "      <td>1.0</td>\n",
       "      <td>4.5</td>\n",
       "      <td>5.0</td>\n",
       "    </tr>\n",
       "    <tr>\n",
       "      <th>7868</th>\n",
       "      <td>165.43</td>\n",
       "      <td>168.51</td>\n",
       "      <td>Ses04F_impro01_M025</td>\n",
       "      <td>xxx</td>\n",
       "      <td>2.0</td>\n",
       "      <td>3.0</td>\n",
       "      <td>3.5</td>\n",
       "    </tr>\n",
       "  </tbody>\n",
       "</table>\n",
       "</div>"
      ],
      "text/plain": [
       "      start_time  end_time             wav_file emotion  val  act  dom\n",
       "7864      139.08    141.80  Ses04F_impro01_M021     ang  2.0  4.0  4.5\n",
       "7865      145.26    148.57  Ses04F_impro01_M022     fru  1.5  4.0  4.5\n",
       "7866      148.69    151.21  Ses04F_impro01_M023     ang  1.5  4.5  5.0\n",
       "7867      151.22    155.47  Ses04F_impro01_M024     ang  1.0  4.5  5.0\n",
       "7868      165.43    168.51  Ses04F_impro01_M025     xxx  2.0  3.0  3.5"
      ]
     },
     "execution_count": 8,
     "metadata": {},
     "output_type": "execute_result"
    }
   ],
   "source": [
    "import pandas as pd\n",
    "\n",
    "df_iemocap = pd.DataFrame(columns=['start_time', 'end_time', 'wav_file', 'emotion', 'val', 'act', 'dom'])\n",
    "\n",
    "df_iemocap['start_time'] = start_times\n",
    "df_iemocap['end_time'] = end_times\n",
    "df_iemocap['wav_file'] = wav_file_names\n",
    "df_iemocap['emotion'] = emotions\n",
    "df_iemocap['val'] = vals\n",
    "df_iemocap['act'] = acts\n",
    "df_iemocap['dom'] = doms\n",
    "\n",
    "df_iemocap.tail()"
   ]
  },
  {
   "cell_type": "code",
   "execution_count": 9,
   "metadata": {},
   "outputs": [],
   "source": [
    "df_iemocap.to_csv(iemocap_pre_processed_data_path + '/df_iemocap.csv', index=False)"
   ]
  },
  {
   "cell_type": "code",
   "execution_count": 10,
   "metadata": {},
   "outputs": [
    {
     "name": "stdout",
     "output_type": "stream",
     "text": [
      "Extracting Audio Vectors now\n"
     ]
    }
   ],
   "source": [
    "print(\"Extracting Audio Vectors now\")"
   ]
  },
  {
   "cell_type": "code",
   "execution_count": 11,
   "metadata": {},
   "outputs": [],
   "source": [
    "#import sys\n",
    "#!{sys.executable} -m pip install librosa\n",
    "#!{sys.executable} -m pip install pysoundfile\n",
    "\n",
    "#you may have to execute this in unix terminal to instal sndfile.h\n",
    "#sudo apt-get install libsndfile1"
   ]
  },
  {
   "cell_type": "code",
   "execution_count": 12,
   "metadata": {},
   "outputs": [],
   "source": [
    "import librosa\n",
    "import os\n",
    "import soundfile as sf\n",
    "import numpy as np\n",
    "import matplotlib.pyplot as plt\n",
    "import matplotlib.style as ms\n",
    "from tqdm import tqdm\n",
    "import pickle\n",
    "\n",
    "import IPython.display\n",
    "import librosa.display\n",
    "ms.use('seaborn-muted')\n",
    "%matplotlib inline"
   ]
  },
  {
   "cell_type": "code",
   "execution_count": 13,
   "metadata": {},
   "outputs": [
    {
     "data": {
      "text/plain": [
       "(array([ 0.42572615,  0.48587543,  0.37312022, ..., -0.31514615,\n",
       "        -0.16263676,  0.        ], dtype=float32), 44100)"
      ]
     },
     "execution_count": 13,
     "metadata": {},
     "output_type": "execute_result"
    }
   ],
   "source": [
    "file_path = iemocap_full_release_path + \"/Session1/dialog/wav/Ses01F_impro01.wav\"\n",
    "\n",
    "y, sr = librosa.load(file_path, sr=44100)\n",
    "y, sr"
   ]
  },
  {
   "cell_type": "code",
   "execution_count": 14,
   "metadata": {},
   "outputs": [],
   "source": [
    "import pandas as pd\n",
    "import math\n",
    "\n",
    "labels_df = pd.read_csv(iemocap_pre_processed_data_path + \"/df_iemocap.csv\")\n",
    "iemocap_dir = iemocap_full_release_path"
   ]
  },
  {
   "cell_type": "code",
   "execution_count": 15,
   "metadata": {},
   "outputs": [
    {
     "name": "stdout",
     "output_type": "stream",
     "text": [
      "loop thru wav audio files and dump audio vector into pkl format\n"
     ]
    }
   ],
   "source": [
    "print(\"loop thru wav audio files and dump audio vector into pkl format\")"
   ]
  },
  {
   "cell_type": "code",
   "execution_count": 16,
   "metadata": {},
   "outputs": [
    {
     "data": {
      "text/html": [
       "<div>\n",
       "<style scoped>\n",
       "    .dataframe tbody tr th:only-of-type {\n",
       "        vertical-align: middle;\n",
       "    }\n",
       "\n",
       "    .dataframe tbody tr th {\n",
       "        vertical-align: top;\n",
       "    }\n",
       "\n",
       "    .dataframe thead th {\n",
       "        text-align: right;\n",
       "    }\n",
       "</style>\n",
       "<table border=\"1\" class=\"dataframe\">\n",
       "  <thead>\n",
       "    <tr style=\"text-align: right;\">\n",
       "      <th></th>\n",
       "      <th>start_time</th>\n",
       "      <th>end_time</th>\n",
       "      <th>wav_file</th>\n",
       "      <th>emotion</th>\n",
       "      <th>val</th>\n",
       "      <th>act</th>\n",
       "      <th>dom</th>\n",
       "    </tr>\n",
       "  </thead>\n",
       "  <tbody>\n",
       "    <tr>\n",
       "      <th>0</th>\n",
       "      <td>5.3913</td>\n",
       "      <td>8.2350</td>\n",
       "      <td>Ses01M_script01_2_F000</td>\n",
       "      <td>ang</td>\n",
       "      <td>2.5</td>\n",
       "      <td>2.5</td>\n",
       "      <td>3.0</td>\n",
       "    </tr>\n",
       "    <tr>\n",
       "      <th>1</th>\n",
       "      <td>12.7400</td>\n",
       "      <td>17.2800</td>\n",
       "      <td>Ses01M_script01_2_F001</td>\n",
       "      <td>ang</td>\n",
       "      <td>2.5</td>\n",
       "      <td>2.0</td>\n",
       "      <td>3.0</td>\n",
       "    </tr>\n",
       "    <tr>\n",
       "      <th>2</th>\n",
       "      <td>32.6300</td>\n",
       "      <td>35.3425</td>\n",
       "      <td>Ses01M_script01_2_F002</td>\n",
       "      <td>xxx</td>\n",
       "      <td>2.5</td>\n",
       "      <td>2.5</td>\n",
       "      <td>3.0</td>\n",
       "    </tr>\n",
       "    <tr>\n",
       "      <th>3</th>\n",
       "      <td>36.7600</td>\n",
       "      <td>39.4800</td>\n",
       "      <td>Ses01M_script01_2_F003</td>\n",
       "      <td>xxx</td>\n",
       "      <td>2.5</td>\n",
       "      <td>3.0</td>\n",
       "      <td>4.0</td>\n",
       "    </tr>\n",
       "    <tr>\n",
       "      <th>4</th>\n",
       "      <td>41.1800</td>\n",
       "      <td>44.7000</td>\n",
       "      <td>Ses01M_script01_2_F004</td>\n",
       "      <td>ang</td>\n",
       "      <td>1.5</td>\n",
       "      <td>4.0</td>\n",
       "      <td>4.0</td>\n",
       "    </tr>\n",
       "    <tr>\n",
       "      <th>...</th>\n",
       "      <td>...</td>\n",
       "      <td>...</td>\n",
       "      <td>...</td>\n",
       "      <td>...</td>\n",
       "      <td>...</td>\n",
       "      <td>...</td>\n",
       "      <td>...</td>\n",
       "    </tr>\n",
       "    <tr>\n",
       "      <th>7864</th>\n",
       "      <td>139.0800</td>\n",
       "      <td>141.8000</td>\n",
       "      <td>Ses04F_impro01_M021</td>\n",
       "      <td>ang</td>\n",
       "      <td>2.0</td>\n",
       "      <td>4.0</td>\n",
       "      <td>4.5</td>\n",
       "    </tr>\n",
       "    <tr>\n",
       "      <th>7865</th>\n",
       "      <td>145.2600</td>\n",
       "      <td>148.5700</td>\n",
       "      <td>Ses04F_impro01_M022</td>\n",
       "      <td>fru</td>\n",
       "      <td>1.5</td>\n",
       "      <td>4.0</td>\n",
       "      <td>4.5</td>\n",
       "    </tr>\n",
       "    <tr>\n",
       "      <th>7866</th>\n",
       "      <td>148.6900</td>\n",
       "      <td>151.2100</td>\n",
       "      <td>Ses04F_impro01_M023</td>\n",
       "      <td>ang</td>\n",
       "      <td>1.5</td>\n",
       "      <td>4.5</td>\n",
       "      <td>5.0</td>\n",
       "    </tr>\n",
       "    <tr>\n",
       "      <th>7867</th>\n",
       "      <td>151.2200</td>\n",
       "      <td>155.4700</td>\n",
       "      <td>Ses04F_impro01_M024</td>\n",
       "      <td>ang</td>\n",
       "      <td>1.0</td>\n",
       "      <td>4.5</td>\n",
       "      <td>5.0</td>\n",
       "    </tr>\n",
       "    <tr>\n",
       "      <th>7868</th>\n",
       "      <td>165.4300</td>\n",
       "      <td>168.5100</td>\n",
       "      <td>Ses04F_impro01_M025</td>\n",
       "      <td>xxx</td>\n",
       "      <td>2.0</td>\n",
       "      <td>3.0</td>\n",
       "      <td>3.5</td>\n",
       "    </tr>\n",
       "  </tbody>\n",
       "</table>\n",
       "<p>7869 rows × 7 columns</p>\n",
       "</div>"
      ],
      "text/plain": [
       "      start_time  end_time                wav_file emotion  val  act  dom\n",
       "0         5.3913    8.2350  Ses01M_script01_2_F000     ang  2.5  2.5  3.0\n",
       "1        12.7400   17.2800  Ses01M_script01_2_F001     ang  2.5  2.0  3.0\n",
       "2        32.6300   35.3425  Ses01M_script01_2_F002     xxx  2.5  2.5  3.0\n",
       "3        36.7600   39.4800  Ses01M_script01_2_F003     xxx  2.5  3.0  4.0\n",
       "4        41.1800   44.7000  Ses01M_script01_2_F004     ang  1.5  4.0  4.0\n",
       "...          ...       ...                     ...     ...  ...  ...  ...\n",
       "7864    139.0800  141.8000     Ses04F_impro01_M021     ang  2.0  4.0  4.5\n",
       "7865    145.2600  148.5700     Ses04F_impro01_M022     fru  1.5  4.0  4.5\n",
       "7866    148.6900  151.2100     Ses04F_impro01_M023     ang  1.5  4.5  5.0\n",
       "7867    151.2200  155.4700     Ses04F_impro01_M024     ang  1.0  4.5  5.0\n",
       "7868    165.4300  168.5100     Ses04F_impro01_M025     xxx  2.0  3.0  3.5\n",
       "\n",
       "[7869 rows x 7 columns]"
      ]
     },
     "execution_count": 16,
     "metadata": {},
     "output_type": "execute_result"
    }
   ],
   "source": [
    "labels_df"
   ]
  },
  {
   "cell_type": "code",
   "execution_count": null,
   "metadata": {},
   "outputs": [
    {
     "name": "stderr",
     "output_type": "stream",
     "text": [
      "  0%|          | 0/56 [00:00<?, ?it/s]"
     ]
    },
    {
     "name": "stdout",
     "output_type": "stream",
     "text": [
      "Working on file -  Ses01F_script03_1\n",
      "> <ipython-input-17-97e5983de447>(27)<module>()\n",
      "-> start_time, end_time, truncated_wav_file_name, emotion, val, act, dom = row['start_time'], row['end_time'], row['wav_file'], row['emotion'], row['val'], row['act'], row['dom']\n",
      "(Pdb) c\n",
      "> <ipython-input-17-97e5983de447>(41)<module>()\n",
      "-> plt.savefig(iemocap_pre_processed_data_path + \"/images/\" + str(emotion) +\"_\"+ str(val) +\"_\"+ str(act) +\"_\"+ str(dom) + '.png')\n",
      "(Pdb) c\n",
      "> <ipython-input-17-97e5983de447>(23)<module>()\n",
      "-> pdb.set_trace()\n",
      "(Pdb) c\n",
      "> <ipython-input-17-97e5983de447>(41)<module>()\n",
      "-> plt.savefig(iemocap_pre_processed_data_path + \"/images/\" + str(emotion) +\"_\"+ str(val) +\"_\"+ str(act) +\"_\"+ str(dom) + '.png')\n",
      "(Pdb) c\n",
      "> <ipython-input-17-97e5983de447>(23)<module>()\n",
      "-> pdb.set_trace()\n",
      "(Pdb) c\n",
      "> <ipython-input-17-97e5983de447>(41)<module>()\n",
      "-> plt.savefig(iemocap_pre_processed_data_path + \"/images/\" + str(emotion) +\"_\"+ str(val) +\"_\"+ str(act) +\"_\"+ str(dom) + '.png')\n",
      "(Pdb) c\n",
      "> <ipython-input-17-97e5983de447>(23)<module>()\n",
      "-> pdb.set_trace()\n",
      "(Pdb) c\n",
      "> <ipython-input-17-97e5983de447>(41)<module>()\n",
      "-> plt.savefig(iemocap_pre_processed_data_path + \"/images/\" + str(emotion) +\"_\"+ str(val) +\"_\"+ str(act) +\"_\"+ str(dom) + '.png')\n",
      "(Pdb) c\n",
      "> <ipython-input-17-97e5983de447>(23)<module>()\n",
      "-> pdb.set_trace()\n",
      "(Pdb) c\n",
      "> <ipython-input-17-97e5983de447>(41)<module>()\n",
      "-> plt.savefig(iemocap_pre_processed_data_path + \"/images/\" + str(emotion) +\"_\"+ str(val) +\"_\"+ str(act) +\"_\"+ str(dom) + '.png')\n",
      "(Pdb) c\n",
      "> <ipython-input-17-97e5983de447>(23)<module>()\n",
      "-> pdb.set_trace()\n"
     ]
    }
   ],
   "source": [
    "sr = 44100\n",
    "audio_vectors = {}\n",
    "import pdb\n",
    "import matplotlib.pyplot as plt\n",
    "from matplotlib.backends.backend_agg import FigureCanvasAgg as FigureCanvas\n",
    "\n",
    "for sess in [1]:  # using one session due to memory constraint, can replace [5] with range(1, 6)\n",
    "    wav_file_path = '{}/Session{}/dialog/wav/'.format(iemocap_dir, sess)\n",
    "    #pdb.set_trace()\n",
    "    orig_wav_files = os.listdir(wav_file_path)\n",
    "    for orig_wav_file in tqdm(orig_wav_files):\n",
    "        #print(\"Wav file is \", orig_wav_file)\n",
    "        x = re.search(\"^Ses.*\", orig_wav_file)\n",
    "        if x == None:\n",
    "            #print(\"Skiping file\", orig_wav_file)\n",
    "            continue\n",
    "        try:\n",
    "            orig_wav_vector, _sr = librosa.load(wav_file_path + orig_wav_file, sr=sr)\n",
    "            orig_wav_file, file_format = orig_wav_file.split('.')\n",
    "            print(\"Working on file - \", orig_wav_file)\n",
    "            #pdb.set_trace()\n",
    "            for index, row in labels_df[labels_df['wav_file'].str.contains(orig_wav_file)].iterrows():\n",
    "                #pdb.set_trace()\n",
    "                #print(\"Inside for loop\")\n",
    "                #orig_wav_vector, _sr = librosa.load(wav_file_path + orig_wav_file, sr=sr)\n",
    "                #orig_wav_file, file_format = orig_wav_file.split('.')\n",
    "                start_time, end_time, truncated_wav_file_name, emotion, val, act, dom = row['start_time'], row['end_time'], row['wav_file'], row['emotion'], row['val'], row['act'], row['dom']\n",
    "                start_frame = math.floor(start_time * sr)\n",
    "                end_frame = math.floor(end_time * sr)\n",
    "                truncated_wav_vector = orig_wav_vector[start_frame:end_frame + 1]\n",
    "                \n",
    "                \n",
    "                X = librosa.stft(truncated_wav_vector)\n",
    "                Xdb = librosa.amplitude_to_db(abs(X))\n",
    "                plt.figure(figsize=(14, 5))\n",
    "                #plt.figure()\n",
    "                librosa.display.specshow(Xdb, sr=sr, x_axis='time', y_axis='hz')\n",
    "                plt.colorbar()\n",
    "                \n",
    "                pdb.set_trace()\n",
    "                plt.savefig(iemocap_pre_processed_data_path + \"/images/\" + str(emotion) +\"_\"+ str(val) +\"_\"+ str(act) +\"_\"+ str(dom) + '.png')\n",
    "                \n",
    "                ###############\n",
    "                #window_size = 1024\n",
    "                #window = np.hanning(window_size)\n",
    "                #stft  = librosa.core.spectrum.stft(truncated_wav_vector, n_fft=window_size, hop_length=512, window=window)\n",
    "                #out = 2 * np.abs(stft) / np.sum(window)\n",
    "                #fig = plt.Figure()\n",
    "                #canvas = FigureCanvas(fig)\n",
    "                #ax = fig.add_subplot(111)\n",
    "                #p = librosa.display.specshow(librosa.amplitude_to_db(out, ref=np.max), ax=ax, y_axis='log', x_axis='time')\n",
    "                #fig.savefig('spec11.png')\n",
    "\n",
    "                ###############\n",
    "                audio_vectors[truncated_wav_file_name] = truncated_wav_vector\n",
    "                \n",
    "        except:\n",
    "            print('An exception occured for {}'.format(orig_wav_file))\n",
    "    with open(iemocap_pre_processed_data_path + '/audio_vectors_exp_{}.pkl'.format(sess), 'wb') as f:\n",
    "        pickle.dump(audio_vectors, f)"
   ]
  },
  {
   "cell_type": "code",
   "execution_count": null,
   "metadata": {},
   "outputs": [],
   "source": []
  },
  {
   "cell_type": "code",
   "execution_count": null,
   "metadata": {},
   "outputs": [],
   "source": []
  }
 ],
 "metadata": {
  "kernelspec": {
   "display_name": "Python 3",
   "language": "python",
   "name": "python3"
  },
  "language_info": {
   "codemirror_mode": {
    "name": "ipython",
    "version": 3
   },
   "file_extension": ".py",
   "mimetype": "text/x-python",
   "name": "python",
   "nbconvert_exporter": "python",
   "pygments_lexer": "ipython3",
   "version": "3.7.4"
  }
 },
 "nbformat": 4,
 "nbformat_minor": 4
}
